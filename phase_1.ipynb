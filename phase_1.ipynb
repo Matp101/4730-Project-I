{
 "cells": [
  {
   "cell_type": "markdown",
   "metadata": {},
   "source": [
    "# Phase 1 of project: Data Wrangling\n",
    "\n",
    "- We will be using the mnist dataset for this project.\n",
    "- The first iteration will use pytorch"
   ]
  },
  {
   "cell_type": "code",
   "execution_count": 2,
   "metadata": {},
   "outputs": [],
   "source": [
    "# load the dataset\n",
    "\n",
    "from keras.datasets import mnist\n",
    "\n",
    "(train_X, train_y), (test_X, test_y) = mnist.load_data()"
   ]
  },
  {
   "cell_type": "code",
   "execution_count": 3,
   "metadata": {},
   "outputs": [
    {
     "name": "stderr",
     "output_type": "stream",
     "text": [
      "2022-09-29 11:30:30.719170: I tensorflow/core/platform/cpu_feature_guard.cc:193] This TensorFlow binary is optimized with oneAPI Deep Neural Network Library (oneDNN) to use the following CPU instructions in performance-critical operations:  AVX2 FMA\n",
      "To enable them in other operations, rebuild TensorFlow with the appropriate compiler flags.\n"
     ]
    }
   ],
   "source": [
    "# create the model\n",
    "\n",
    "from keras.models import Sequential\n",
    "from keras.layers import Dense\n",
    "from keras.layers import Flatten\n",
    "from keras.layers.convolutional import Conv2D\n",
    "from keras.layers.convolutional import MaxPooling2D\n",
    "\n",
    "model = Sequential()\n",
    "layers = [\n",
    "    Conv2D(32, (5, 5), input_shape=(28, 28, 1), activation='relu'),\n",
    "    MaxPooling2D(),\n",
    "    Flatten(),\n",
    "    Dense(128, activation='relu'),\n",
    "    Dense(10, activation='softmax')\n",
    "]\n",
    "\n",
    "# Conv2D takes input images and converts them into feature maps\n",
    "# MaxPooling2D reduces the size of the feature maps\n",
    "# Flatten flattens the feature maps into a single vector\n",
    "# Dense is a fully connected layer\n",
    "# The last layer is a softmax layer with 10 nodes, one for each class (0-9)\n",
    "\n",
    "for layer in layers:\n",
    "    model.add(layer)\n"
   ]
  },
  {
   "cell_type": "code",
   "execution_count": 4,
   "metadata": {},
   "outputs": [],
   "source": [
    "# compile the model\n",
    "\n",
    "model.compile(loss='categorical_crossentropy', optimizer='adam', metrics=['accuracy'])\n"
   ]
  },
  {
   "cell_type": "code",
   "execution_count": 5,
   "metadata": {},
   "outputs": [
    {
     "name": "stdout",
     "output_type": "stream",
     "text": [
      "Epoch 1/10\n",
      "300/300 - 8s - loss: 0.2468 - accuracy: 0.9288 - val_loss: 0.0765 - val_accuracy: 0.9774 - 8s/epoch - 26ms/step\n",
      "Epoch 2/10\n",
      "300/300 - 7s - loss: 0.0671 - accuracy: 0.9803 - val_loss: 0.0513 - val_accuracy: 0.9824 - 7s/epoch - 23ms/step\n",
      "Epoch 3/10\n",
      "300/300 - 7s - loss: 0.0459 - accuracy: 0.9863 - val_loss: 0.0496 - val_accuracy: 0.9836 - 7s/epoch - 23ms/step\n",
      "Epoch 4/10\n",
      "300/300 - 7s - loss: 0.0357 - accuracy: 0.9887 - val_loss: 0.0380 - val_accuracy: 0.9869 - 7s/epoch - 22ms/step\n",
      "Epoch 5/10\n",
      "300/300 - 7s - loss: 0.0275 - accuracy: 0.9913 - val_loss: 0.0358 - val_accuracy: 0.9881 - 7s/epoch - 23ms/step\n",
      "Epoch 6/10\n",
      "300/300 - 7s - loss: 0.0224 - accuracy: 0.9930 - val_loss: 0.0403 - val_accuracy: 0.9863 - 7s/epoch - 24ms/step\n",
      "Epoch 7/10\n",
      "300/300 - 7s - loss: 0.0174 - accuracy: 0.9948 - val_loss: 0.0325 - val_accuracy: 0.9893 - 7s/epoch - 23ms/step\n",
      "Epoch 8/10\n",
      "300/300 - 7s - loss: 0.0124 - accuracy: 0.9965 - val_loss: 0.0382 - val_accuracy: 0.9883 - 7s/epoch - 22ms/step\n",
      "Epoch 9/10\n",
      "300/300 - 7s - loss: 0.0108 - accuracy: 0.9967 - val_loss: 0.0355 - val_accuracy: 0.9894 - 7s/epoch - 22ms/step\n",
      "Epoch 10/10\n",
      "300/300 - 7s - loss: 0.0093 - accuracy: 0.9972 - val_loss: 0.0368 - val_accuracy: 0.9884 - 7s/epoch - 23ms/step\n"
     ]
    },
    {
     "data": {
      "text/plain": [
       "<keras.callbacks.History at 0x7fe3f0309cc0>"
      ]
     },
     "execution_count": 5,
     "metadata": {},
     "output_type": "execute_result"
    }
   ],
   "source": [
    "# train the model\n",
    "\n",
    "from keras.utils import np_utils\n",
    "\n",
    "train_X = train_X.reshape((train_X.shape[0], 28, 28, 1)).astype('float32')\n",
    "test_X = test_X.reshape((test_X.shape[0], 28, 28, 1)).astype('float32')\n",
    "\n",
    "train_X = train_X / 255\n",
    "test_X = test_X / 255\n",
    "\n",
    "train_y = np_utils.to_categorical(train_y)\n",
    "test_y = np_utils.to_categorical(test_y)\n",
    "\n",
    "model.fit(train_X, train_y, validation_data=(test_X, test_y), epochs=10, batch_size=200, verbose=2)\n"
   ]
  },
  {
   "cell_type": "code",
   "execution_count": 6,
   "metadata": {},
   "outputs": [
    {
     "name": "stdout",
     "output_type": "stream",
     "text": [
      "CNN Error: 1.16%\n"
     ]
    }
   ],
   "source": [
    "# validate the model\n",
    "\n",
    "scores = model.evaluate(test_X, test_y, verbose=0)\n",
    "print(\"CNN Error: %.2f%%\" % (100-scores[1]*100))\n"
   ]
  }
 ],
 "metadata": {
  "kernelspec": {
   "display_name": "Python 3.10.4 64-bit",
   "language": "python",
   "name": "python3"
  },
  "language_info": {
   "codemirror_mode": {
    "name": "ipython",
    "version": 3
   },
   "file_extension": ".py",
   "mimetype": "text/x-python",
   "name": "python",
   "nbconvert_exporter": "python",
   "pygments_lexer": "ipython3",
   "version": "3.10.6"
  },
  "orig_nbformat": 4,
  "vscode": {
   "interpreter": {
    "hash": "916dbcbb3f70747c44a77c7bcd40155683ae19c65e1c03b4aa3499c5328201f1"
   }
  }
 },
 "nbformat": 4,
 "nbformat_minor": 2
}
