{
 "cells": [
  {
   "cell_type": "markdown",
   "metadata": {},
   "source": [
    "# Phase 1 of project: Data Wrangling\n",
    "\n",
    "- We will be using the mnist dataset for this project.\n",
    "- The first iteration will use pytorch"
   ]
  },
  {
   "cell_type": "code",
   "execution_count": null,
   "metadata": {},
   "outputs": [],
   "source": [
    "# load the dataset\n",
    "\n",
    "from keras.datasets import mnist\n",
    "\n",
    "(train_X, train_y), (test_X, test_y) = mnist.load_data()\n",
    "\n",
    "print('Train: X=%s, y=%s' % (train_X.shape, train_y.shape))\n",
    "print('Test: X=%s, y=%s' % (test_X.shape, test_y.shape))"
   ]
  },
  {
   "cell_type": "code",
   "execution_count": null,
   "metadata": {},
   "outputs": [],
   "source": [
    "# plot the dataset\n",
    "\n",
    "import matplotlib.pyplot as plt\n",
    "\n",
    "for i in range(9):\n",
    "    plt.subplot(330 + 1 + i)\n",
    "    plt.imshow(train_X[i], cmap=plt.get_cmap('gray'))\n",
    "plt.show()\n"
   ]
  },
  {
   "cell_type": "code",
   "execution_count": null,
   "metadata": {},
   "outputs": [],
   "source": [
    "# create the model\n",
    "\n",
    "from keras.models import Sequential\n",
    "from keras.layers import Dense\n",
    "from keras.layers import Flatten\n",
    "from keras.layers.convolutional import Conv2D\n",
    "from keras.layers.convolutional import MaxPooling2D\n",
    "\n",
    "model = Sequential()\n",
    "\n",
    "# Conv2D takes input images and converts them into feature maps\n",
    "# MaxPooling2D reduces the size of the feature maps, reducing the number of parameters in the network\n",
    "# Flatten flattens the feature maps into a single vector to pass to the fully connected layers\n",
    "# Dense is a fully connected layer\n",
    "# The last layer is a softmax layer with 10 nodes, one for each class (0-9)\n",
    "\n",
    "model.add(Conv2D(32, (5, 5), input_shape=(28, 28, 1), activation='relu'))\n",
    "model.add(MaxPooling2D())\n",
    "model.add(Flatten())\n",
    "model.add(Dense(128, activation='relu'))\n",
    "model.add(Dense(10, activation='softmax'))\n"
   ]
  },
  {
   "cell_type": "code",
   "execution_count": null,
   "metadata": {},
   "outputs": [],
   "source": [
    "# compile the model\n",
    "\n",
    "model.compile(loss='categorical_crossentropy', optimizer='adam', metrics=['accuracy'])\n"
   ]
  },
  {
   "cell_type": "code",
   "execution_count": null,
   "metadata": {},
   "outputs": [],
   "source": [
    "# train the model\n",
    "\n",
    "from keras.utils import np_utils\n",
    "\n",
    "train_X = train_X.reshape((train_X.shape[0], 28, 28, 1)).astype('float32')\n",
    "test_X = test_X.reshape((test_X.shape[0], 28, 28, 1)).astype('float32')\n",
    "\n",
    "train_X = train_X / 255\n",
    "test_X = test_X / 255\n",
    "\n",
    "train_y = np_utils.to_categorical(train_y)\n",
    "test_y = np_utils.to_categorical(test_y)\n",
    "\n",
    "model.fit(train_X, train_y, validation_data=(test_X, test_y), epochs=10, batch_size=200, verbose=2)\n"
   ]
  },
  {
   "cell_type": "code",
   "execution_count": null,
   "metadata": {},
   "outputs": [],
   "source": [
    "# validate the model\n",
    "\n",
    "scores = model.evaluate(test_X, test_y, verbose=0)\n",
    "print(\"CNN Error: %.2f%%\" % (100-scores[1]*100))\n"
   ]
  }
 ],
 "metadata": {
  "kernelspec": {
   "display_name": "Python 3.10.7 64-bit (microsoft store)",
   "language": "python",
   "name": "python3"
  },
  "language_info": {
   "codemirror_mode": {
    "name": "ipython",
    "version": 3
   },
   "file_extension": ".py",
   "mimetype": "text/x-python",
   "name": "python",
   "nbconvert_exporter": "python",
   "pygments_lexer": "ipython3",
   "version": "3.10.7"
  },
  "orig_nbformat": 4,
  "vscode": {
   "interpreter": {
    "hash": "44102fab928a30fd9fc3692123612c99a2538c055ba532f349cb9707da8b0c0f"
   }
  }
 },
 "nbformat": 4,
 "nbformat_minor": 2
}
