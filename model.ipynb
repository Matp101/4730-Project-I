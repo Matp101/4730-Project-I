{
 "cells": [
  {
   "cell_type": "code",
   "execution_count": null,
   "metadata": {},
   "outputs": [],
   "source": [
    "# load the dataset\n",
    "\n",
    "from tensorflow.keras.datasets import mnist\n",
    "from progressbar import progressbar\n",
    "import numpy as np\n",
    "import multiprocessing as mp\n",
    "from itertools import product\n",
    "\n",
    "from layers.Conv2D import Conv2D\n",
    "from layers.Pooling import Pooling\n",
    "from layers.Dense import Dense\n",
    "from layers.Flatten import Flatten"
   ]
  },
  {
   "cell_type": "code",
   "execution_count": null,
   "metadata": {},
   "outputs": [],
   "source": [
    "# import the data\n",
    "(train_X, train_y), (test_X, test_y) = mnist.load_data()\n",
    "\n",
    "# scale the data\n",
    "train_X, test_X = train_X / 255.0, test_X / 255.0\n",
    "\n",
    "\n",
    "# reduce the size of the dataset\n",
    "train_X, test_X = train_X[:100], test_X[:10]\n",
    "train_y, test_y = train_y[:100], test_y[:10]\n",
    "\n",
    "# need the fourth dimension to represent the number of channels\n",
    "train_X = train_X.reshape(-1, 28, 28, 1)\n",
    "test_X = test_X.reshape(-1, 28, 28, 1)\n",
    "\n",
    "print('Train: X=%s, y=%s' % (train_X.shape, train_y.shape))\n",
    "print('Test: X=%s, y=%s' % (test_X.shape, test_y.shape))"
   ]
  },
  {
   "cell_type": "code",
   "execution_count": null,
   "metadata": {},
   "outputs": [],
   "source": [
    "# define the model\n",
    "model = []\n",
    "\n",
    "model.append(Conv2D(32, 2, 1, 1))\n",
    "model.append(Pooling(2, 2, 'max'))\n",
    "model.append(Flatten())\n",
    "\n",
    "# determine the number of input features by running one forward pass on one image\n",
    "dims = train_X[0]\n",
    "dims = dims.reshape(1, *dims.shape)\n",
    "for layer in model:\n",
    "    dims = layer.forward(dims)\n",
    "\n",
    "model.append(Dense(np.prod(dims.shape[1:]), 128))\n",
    "model.append(Dense(128, 10))\n",
    "\n",
    "for layer in model[3:]:\n",
    "    dims = layer.forward(dims)"
   ]
  },
  {
   "cell_type": "code",
   "execution_count": null,
   "metadata": {},
   "outputs": [],
   "source": [
    "def predict(X, model):\n",
    "    # forward pass on a single image\n",
    "    for layer in model:\n",
    "        X = layer.forward(X)\n",
    "    X = np.argmax(X, axis=1)\n",
    "    return X\n",
    "\n",
    "\n",
    "def train(X, y, model, lr=0.01):\n",
    "    # forward pass\n",
    "    y_pred = predict(X, model)\n",
    "    # \n",
    "    # calculate loss\n",
    "    loss = np.square(y_pred - y).sum()\n",
    "    print('loss: %f' % loss)\n",
    "\n",
    "    # backward pass\n",
    "    grad_y_pred = 2.0 * (y_pred - y)\n",
    "    for layer in reversed(model):\n",
    "        grad_y_pred = layer.backward(grad_y_pred, lr)"
   ]
  },
  {
   "cell_type": "code",
   "execution_count": null,
   "metadata": {},
   "outputs": [],
   "source": [
    "# train the model\n",
    "train(train_X, train_y, model)"
   ]
  }
 ],
 "metadata": {
  "kernelspec": {
   "display_name": "Python 3.10.6 64-bit",
   "language": "python",
   "name": "python3"
  },
  "language_info": {
   "codemirror_mode": {
    "name": "ipython",
    "version": 3
   },
   "file_extension": ".py",
   "mimetype": "text/x-python",
   "name": "python",
   "nbconvert_exporter": "python",
   "pygments_lexer": "ipython3",
   "version": "3.10.6"
  },
  "orig_nbformat": 4,
  "vscode": {
   "interpreter": {
    "hash": "31f2aee4e71d21fbe5cf8b01ff0e069b9275f58929596ceb00d14d90e3e16cd6"
   }
  }
 },
 "nbformat": 4,
 "nbformat_minor": 2
}
