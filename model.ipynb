{
 "cells": [
  {
   "cell_type": "code",
   "execution_count": 7,
   "metadata": {},
   "outputs": [],
   "source": [
    "# load the dataset\n",
    "\n",
    "from tensorflow.keras.datasets import mnist\n",
    "from progressbar import progressbar\n",
    "import numpy as np\n",
    "import multiprocessing as mp\n",
    "from itertools import product\n",
    "\n",
    "from layers.Conv2D import Conv2D\n",
    "from layers.Pooling import Pooling\n",
    "from layers.Dense import Dense\n",
    "from layers.Flatten import Flatten"
   ]
  },
  {
   "cell_type": "code",
   "execution_count": 8,
   "metadata": {},
   "outputs": [
    {
     "name": "stdout",
     "output_type": "stream",
     "text": [
      "Train: X=(100, 28, 28, 1), y=(100,)\n",
      "Test: X=(10, 28, 28, 1), y=(10,)\n"
     ]
    }
   ],
   "source": [
    "# import the data\n",
    "(train_X, train_y), (test_X, test_y) = mnist.load_data()\n",
    "\n",
    "# scale the data\n",
    "train_X, test_X = train_X / 255.0, test_X / 255.0\n",
    "\n",
    "\n",
    "# reduce the size of the dataset\n",
    "train_X, test_X = train_X[:100], test_X[:10]\n",
    "train_y, test_y = train_y[:100], test_y[:10]\n",
    "\n",
    "# need the fourth dimension to represent the number of channels\n",
    "train_X = train_X.reshape(-1, 28, 28, 1)\n",
    "test_X = test_X.reshape(-1, 28, 28, 1)\n",
    "\n",
    "print('Train: X=%s, y=%s' % (train_X.shape, train_y.shape))\n",
    "print('Test: X=%s, y=%s' % (test_X.shape, test_y.shape))"
   ]
  },
  {
   "cell_type": "code",
   "execution_count": 9,
   "metadata": {},
   "outputs": [],
   "source": [
    "# define the model\n",
    "model = []\n",
    "model.append(Conv2D(32, 2, 1, 1))\n",
    "model.append(Pooling(2, 2, 'max'))\n",
    "model.append(Flatten())\n",
    "dims = train_X[0]\n",
    "for layer in model:\n",
    "    # print(dims.shape)\n",
    "    dims = layer.forward(dims)\n",
    "# print(dims.shape)\n",
    "model.append(Dense(dims.shape[0], 128))\n",
    "model.append(Dense(128, 10))"
   ]
  },
  {
   "cell_type": "code",
   "execution_count": 10,
   "metadata": {},
   "outputs": [],
   "source": [
    "def predict(X):\n",
    "    # forward pass on a single image\n",
    "    for layer in model:\n",
    "        X = layer.forward(X)\n",
    "    return X\n",
    "\n",
    "def predict_batch(X, model) -> np.ndarray:\n",
    "    # forward pass on a batch of images\n",
    "    #y_pred = np.array([predict(X, model)])\n",
    "    with mp.Pool(mp.cpu_count()) as p:\n",
    "        ps = [p.apply_async(predict, args=(x,model,)) for x in X]\n",
    "    y_pred = [p.get() for p in progressbar(ps, prefix='predicting ')]\n",
    "\n",
    "def train(X, y, model, lr=0.01):\n",
    "    # forward pass\n",
    "    y_pred = predict_batch(X, model)\n",
    "    # calculate loss\n",
    "    loss = np.square(y_pred - y).sum()\n",
    "    print('loss: %f' % loss)\n",
    "\n",
    "    # backward pass\n",
    "    grad_y_pred = 2.0 * (y_pred - y)\n",
    "    for layer in reversed(model):\n",
    "        grad_y_pred = layer.backward(grad_y_pred, lr)"
   ]
  },
  {
   "cell_type": "code",
   "execution_count": 11,
   "metadata": {},
   "outputs": [
    {
     "name": "stderr",
     "output_type": "stream",
     "text": [
      "predicting   0% (0 of 100) |             | Elapsed Time: 0:00:00 ETA:  --:--:--\n"
     ]
    },
    {
     "ename": "KeyboardInterrupt",
     "evalue": "",
     "output_type": "error",
     "traceback": [
      "\u001b[0;31m---------------------------------------------------------------------------\u001b[0m",
      "\u001b[0;31mKeyboardInterrupt\u001b[0m                         Traceback (most recent call last)",
      "Cell \u001b[0;32mIn [11], line 2\u001b[0m\n\u001b[1;32m      1\u001b[0m \u001b[39m# train the model\u001b[39;00m\n\u001b[0;32m----> 2\u001b[0m train(train_X, train_y, model)\n",
      "Cell \u001b[0;32mIn [10], line 16\u001b[0m, in \u001b[0;36mtrain\u001b[0;34m(X, y, model, lr)\u001b[0m\n\u001b[1;32m     14\u001b[0m \u001b[39mdef\u001b[39;00m \u001b[39mtrain\u001b[39m(X, y, model, lr\u001b[39m=\u001b[39m\u001b[39m0.01\u001b[39m):\n\u001b[1;32m     15\u001b[0m     \u001b[39m# forward pass\u001b[39;00m\n\u001b[0;32m---> 16\u001b[0m     y_pred \u001b[39m=\u001b[39m predict_batch(X, model)\n\u001b[1;32m     17\u001b[0m     \u001b[39m# calculate loss\u001b[39;00m\n\u001b[1;32m     18\u001b[0m     loss \u001b[39m=\u001b[39m np\u001b[39m.\u001b[39msquare(y_pred \u001b[39m-\u001b[39m y)\u001b[39m.\u001b[39msum()\n",
      "Cell \u001b[0;32mIn [10], line 12\u001b[0m, in \u001b[0;36mpredict_batch\u001b[0;34m(X, model)\u001b[0m\n\u001b[1;32m     10\u001b[0m \u001b[39mwith\u001b[39;00m mp\u001b[39m.\u001b[39mPool(mp\u001b[39m.\u001b[39mcpu_count()) \u001b[39mas\u001b[39;00m p:\n\u001b[1;32m     11\u001b[0m     ps \u001b[39m=\u001b[39m [p\u001b[39m.\u001b[39mapply_async(predict, args\u001b[39m=\u001b[39m(x,model,)) \u001b[39mfor\u001b[39;00m x \u001b[39min\u001b[39;00m X]\n\u001b[0;32m---> 12\u001b[0m y_pred \u001b[39m=\u001b[39m [p\u001b[39m.\u001b[39mget() \u001b[39mfor\u001b[39;00m p \u001b[39min\u001b[39;00m progressbar(ps, prefix\u001b[39m=\u001b[39m\u001b[39m'\u001b[39m\u001b[39mpredicting \u001b[39m\u001b[39m'\u001b[39m)]\n",
      "Cell \u001b[0;32mIn [10], line 12\u001b[0m, in \u001b[0;36m<listcomp>\u001b[0;34m(.0)\u001b[0m\n\u001b[1;32m     10\u001b[0m \u001b[39mwith\u001b[39;00m mp\u001b[39m.\u001b[39mPool(mp\u001b[39m.\u001b[39mcpu_count()) \u001b[39mas\u001b[39;00m p:\n\u001b[1;32m     11\u001b[0m     ps \u001b[39m=\u001b[39m [p\u001b[39m.\u001b[39mapply_async(predict, args\u001b[39m=\u001b[39m(x,model,)) \u001b[39mfor\u001b[39;00m x \u001b[39min\u001b[39;00m X]\n\u001b[0;32m---> 12\u001b[0m y_pred \u001b[39m=\u001b[39m [p\u001b[39m.\u001b[39;49mget() \u001b[39mfor\u001b[39;00m p \u001b[39min\u001b[39;00m progressbar(ps, prefix\u001b[39m=\u001b[39m\u001b[39m'\u001b[39m\u001b[39mpredicting \u001b[39m\u001b[39m'\u001b[39m)]\n",
      "File \u001b[0;32m/usr/lib/python3.10/multiprocessing/pool.py:768\u001b[0m, in \u001b[0;36mApplyResult.get\u001b[0;34m(self, timeout)\u001b[0m\n\u001b[1;32m    767\u001b[0m \u001b[39mdef\u001b[39;00m \u001b[39mget\u001b[39m(\u001b[39mself\u001b[39m, timeout\u001b[39m=\u001b[39m\u001b[39mNone\u001b[39;00m):\n\u001b[0;32m--> 768\u001b[0m     \u001b[39mself\u001b[39;49m\u001b[39m.\u001b[39;49mwait(timeout)\n\u001b[1;32m    769\u001b[0m     \u001b[39mif\u001b[39;00m \u001b[39mnot\u001b[39;00m \u001b[39mself\u001b[39m\u001b[39m.\u001b[39mready():\n\u001b[1;32m    770\u001b[0m         \u001b[39mraise\u001b[39;00m \u001b[39mTimeoutError\u001b[39;00m\n",
      "File \u001b[0;32m/usr/lib/python3.10/multiprocessing/pool.py:765\u001b[0m, in \u001b[0;36mApplyResult.wait\u001b[0;34m(self, timeout)\u001b[0m\n\u001b[1;32m    764\u001b[0m \u001b[39mdef\u001b[39;00m \u001b[39mwait\u001b[39m(\u001b[39mself\u001b[39m, timeout\u001b[39m=\u001b[39m\u001b[39mNone\u001b[39;00m):\n\u001b[0;32m--> 765\u001b[0m     \u001b[39mself\u001b[39;49m\u001b[39m.\u001b[39;49m_event\u001b[39m.\u001b[39;49mwait(timeout)\n",
      "File \u001b[0;32m/usr/lib/python3.10/threading.py:607\u001b[0m, in \u001b[0;36mEvent.wait\u001b[0;34m(self, timeout)\u001b[0m\n\u001b[1;32m    605\u001b[0m signaled \u001b[39m=\u001b[39m \u001b[39mself\u001b[39m\u001b[39m.\u001b[39m_flag\n\u001b[1;32m    606\u001b[0m \u001b[39mif\u001b[39;00m \u001b[39mnot\u001b[39;00m signaled:\n\u001b[0;32m--> 607\u001b[0m     signaled \u001b[39m=\u001b[39m \u001b[39mself\u001b[39;49m\u001b[39m.\u001b[39;49m_cond\u001b[39m.\u001b[39;49mwait(timeout)\n\u001b[1;32m    608\u001b[0m \u001b[39mreturn\u001b[39;00m signaled\n",
      "File \u001b[0;32m/usr/lib/python3.10/threading.py:320\u001b[0m, in \u001b[0;36mCondition.wait\u001b[0;34m(self, timeout)\u001b[0m\n\u001b[1;32m    318\u001b[0m \u001b[39mtry\u001b[39;00m:    \u001b[39m# restore state no matter what (e.g., KeyboardInterrupt)\u001b[39;00m\n\u001b[1;32m    319\u001b[0m     \u001b[39mif\u001b[39;00m timeout \u001b[39mis\u001b[39;00m \u001b[39mNone\u001b[39;00m:\n\u001b[0;32m--> 320\u001b[0m         waiter\u001b[39m.\u001b[39;49macquire()\n\u001b[1;32m    321\u001b[0m         gotit \u001b[39m=\u001b[39m \u001b[39mTrue\u001b[39;00m\n\u001b[1;32m    322\u001b[0m     \u001b[39melse\u001b[39;00m:\n",
      "\u001b[0;31mKeyboardInterrupt\u001b[0m: "
     ]
    }
   ],
   "source": [
    "# train the model\n",
    "train(train_X, train_y, model)"
   ]
  }
 ],
 "metadata": {
  "kernelspec": {
   "display_name": "Python 3.10.6 64-bit",
   "language": "python",
   "name": "python3"
  },
  "language_info": {
   "codemirror_mode": {
    "name": "ipython",
    "version": 3
   },
   "file_extension": ".py",
   "mimetype": "text/x-python",
   "name": "python",
   "nbconvert_exporter": "python",
   "pygments_lexer": "ipython3",
   "version": "3.10.6"
  },
  "orig_nbformat": 4,
  "vscode": {
   "interpreter": {
    "hash": "31f2aee4e71d21fbe5cf8b01ff0e069b9275f58929596ceb00d14d90e3e16cd6"
   }
  }
 },
 "nbformat": 4,
 "nbformat_minor": 2
}
